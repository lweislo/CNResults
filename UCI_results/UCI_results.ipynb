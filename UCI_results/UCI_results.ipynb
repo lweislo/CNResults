{
 "cells": [
  {
   "cell_type": "markdown",
   "metadata": {},
   "source": [
    "## UCI Results parser\n",
    "- This notebook assumes you have a downloads folder with no other .xlsx files other than files downloaded from uci.org.\n",
    "- It works best for one-day races, especially Cyclocross.\n",
    "- It does no other formatting than to eliminate extraneous columns, leaving only placing/name (country) team/time\n",
    "- UCI times vary wildly so you may have to correct them after processing.\n",
    "- There are no guarantees that the UCI results files are consistent in format, so YMMV."
   ]
  },
  {
   "cell_type": "code",
   "execution_count": 18,
   "metadata": {},
   "outputs": [],
   "source": [
    "import pandas as pd\n",
    "import os\n",
    "import glob"
   ]
  },
  {
   "cell_type": "code",
   "execution_count": 19,
   "metadata": {},
   "outputs": [],
   "source": [
    "def cn_format(df1, file_name):\n",
    "\n",
    "    try:\n",
    "#Reformat the dataframe\n",
    "#Taking DNF/DNS from IRM column and adding to blank values in Rank\n",
    "        df1['Rank'] = df1['Rank'].fillna(df1['IRM'])\n",
    "#Combining First and non-UPPER last names\n",
    "        df1['Name'] = (df1['First Name'] + ' ' + df1['Last Name'].str.title())\n",
    "#Getting rid of non-time values in Result column.\n",
    "        df1.loc[:,'Result'] = df1['Result'].where((df1['Result'].astype(str).str.contains(':') == True), df1['Result'].astype(str).str[''])\n",
    "#mapping the UCI country codes to CN code dictionary\n",
    "        df1['Country'] = df1['Country'].map(countries_short_dict).fillna(\"(\" + df1['Country'].str.title() + \")\")\n",
    "#Reformat teams\n",
    "        df1['Team'] = df1['Team'].fillna('').str.title()\n",
    "#finally format rider/country/team\n",
    "        df1['Rider'] = (df1['Name'] + ' ' + df1['Country'] + ' ' + df1['Team'])\n",
    "#Now output the three important columns to Excel\n",
    "        writer = pd.ExcelWriter('output(' + file_name + ').xlsx')\n",
    "        df1.to_excel(writer, \"Sheet1\", startrow=0, header=False, index= False, columns=['Rank', 'Rider', 'Result'] )\n",
    "#CN macros need three sheets\n",
    "        workbook  = writer.book\n",
    "        worksheet = workbook.add_worksheet()\n",
    "        worksheet = workbook.add_worksheet()\n",
    "        writer.save()\n",
    "    except:\n",
    "        print(f\"Error running the file {file_name}\")"
   ]
  },
  {
   "cell_type": "code",
   "execution_count": 22,
   "metadata": {},
   "outputs": [
    {
     "name": "stdout",
     "output_type": "stream",
     "text": [
      "['Results(1).xlsx', 'Results.xlsx', '~$output(0).xlsx']\n",
      "Results(1\n",
      "0\n"
     ]
    }
   ],
   "source": [
    "countries_short_dict = {\"ALB\": \"(Alb)\", \"ALG\": \"(Alg)\", \"AND\": \"(And)\", \"ANG\": \"(Ang)\", \"ANT\": \"(Ant)\", \"ARG\": \"(Arg)\", \"ARM\": \"(Arm)\", \"ARU\": \"(Aru)\", \"AUS\": \"(Aus)\", \"AUT\": \"(Aut)\", \"AZE\": \"(Aze)\", \"BAH\": \"(Bah)\", \"BRN\": \"(Brn)\", \"BAN\": \"(Ban)\", \"BAR\": \"(Bar)\", \"BLR\": \"(Blr)\", \"BEL\": \"(Bel)\", \"BIZ\": \"(Biz)\", \"BEN\": \"(Ben)\", \"BER\": \"(Ber)\", \"BOL\": \"(Bol)\", \"BIH\": \"(BiH)\", \"BRA\": \"(Bra)\", \"BRU\": \"(Bru)\", \"BUL\": \"(Bul)\", \"BUR\": \"(Bur)\", \"BDI\": \"(Bdi)\", \"CMR\": \"(Cmr)\", \"CAN\": \"(Can)\", \"CPV\": \"(CpV)\", \"CAY\": \"(Cay)\", \"CHI\": \"(Chi)\", \"CHN\": \"(Chn)\", \"TPE\": \"(Tpe)\", \"COL\": \"(Col)\", \"COM\": \"(Com)\", \"CRC\": \"(CRc)\", \"CRO\": \"(Cro)\", \"CUB\": \"(Cub)\", \"CYP\": \"(Cyp)\", \"CZE\": \"(Cze)\", \"DEN\": \"(Den)\", \"DOM\": \"(Dom)\", \"ECU\": \"(Ecu)\", \"EGY\": \"(Egy)\", \"ESA\": \"(ESa)\", \"ERI\": \"(Eri)\", \"EST\": \"(Est)\", \"ETH\": \"(Eth)\", \"FIJ\": \"(Fij)\", \"FIN\": \"(Fin)\", \"FRA\": \"(Fra)\", \"GAB\": \"(Gab)\", \"GEO\": \"(Geo)\", \"GER\": \"(Ger)\", \"GRE\": \"(Gre)\", \"GRN\": \"(Grn)\", \"GUM\": \"(Gum)\", \"GUA\": \"(Gua)\", \"GUI\": \"(Gui)\", \"GUY\": \"(Guy)\", \"HAI\": \"(Hai)\", \"HON\": \"(Hon)\", \"HKG\": \"(HKg)\", \"HUN\": \"(Hun)\", \"ISL\": \"(Isl)\", \"IND\": \"(Ind)\", \"INA\": \"(Ina)\", \"IRI\": \"(IRI)\", \"IRQ\": \"(Irq)\", \"ISR\": \"(Isr)\", \"ITA\": \"(Ita)\", \"CIV\": \"(CIv)\", \"JAM\": \"(Jam)\", \"JPN\": \"(Jpn)\", \"JOR\": \"(Jor)\", \"KAZ\": \"(Kaz)\", \"KEN\": \"(Ken)\", \"KOS\": \"(Kos)\", \"KUW\": \"(Kuw)\", \"KGZ\": \"(Kgz)\", \"Laos\": \"Laos\", \"LAT\": \"(Lat)\", \"LIB\": \"(Lib)\", \"LES\": \"(Les)\", \"LIE\": \"(Lie)\", \"LTU\": \"(Ltu)\", \"LUX\": \"(Lux)\", \"MAC\": \"(Mac)\", \"MKD\": \"(Mkd)\", \"MAD\": \"(Mad)\", \"MLI\": \"(Mli)\", \"MAS\": \"(Mas)\", \"MLT\": \"(Mlt)\", \"MRI\": \"(Mri)\", \"MEX\": \"(Mex)\", \"MDA\": \"(Mda)\", \"MON\": \"(Mon)\", \"MGL\": \"(Mgl)\", \"MNE\": \"(Mne)\", \"MAR\": \"(Mar)\", \"MYA\": \"(Mya)\", \"NAM\": \"(Nam)\", \"NEP\": \"(Nep)\", \"NED\": \"(Ned)\", \"AHO\": \"(AHo)\", \"NZL\": \"(NZl)\", \"NCA\": \"(Nca)\", \"NIG\": \"(Nig)\", \"NGR\": \"(Ngr)\", \"PRK\": \"(PRK)\", \"NOR\": \"(Nor)\", \"OMA\": \"(Oma)\", \"PAK\": \"(Pak)\", \"PAN\": \"(Pan)\", \"PAR\": \"(Par)\", \"PER\": \"(Per)\", \"PHI\": \"(Phi)\", \"POL\": \"(Pol)\", \"POR\": \"(Por)\", \"PUR\": \"(PuR)\", \"QAT\": \"(Qat)\", \"IRL\": \"(Irl)\", \"CGO\": \"(Cgo)\", \"ROU\": \"(Rom)\", \"RUS\": \"(Rus)\", \"RWA\": \"(Rwa)\", \"SKN\": \"(SKN)\", \"LCA\": \"(Lca)\", \"VIN\": \"(Vin)\", \"SMR\": \"(SMr)\", \"KSA\": \"(KSA)\", \"SEN\": \"(Sen)\", \"SRB\": \"(Srb)\", \"SEY\": \"(Sey)\", \"SIN\": \"(Sin)\", \"SVK\": \"(Svk)\", \"SLO\": \"(Slo)\", \"SOM\": \"(Som)\", \"RSA\": \"(RSA)\", \"KOR\": \"(Kor)\", \"ESP\": \"(Spa)\", \"SRI\": \"(Sri)\", \"SUD\": \"(Sud)\", \"SUR\": \"(Sur)\", \"SWE\": \"(Swe)\", \"SUI\": \"(Swi)\", \"SYR\": \"(Syr)\", \"TJK\": \"(Tjk)\", \"THA\": \"(Tha)\", \"TOG\": \"(Tog)\", \"TRI\": \"(Tri)\", \"TUN\": \"(Tun)\", \"TUR\": \"(Tur)\", \"TKM\": \"(Tkm)\", \"UGA\": \"(Uga)\", \"UKR\": \"(Ukr)\", \"UAE\": \"(UAE)\", \"GBR\": \"(GBr)\", \"USA\": \"(USA)\", \"URU\": \"(Uru)\", \"UZB\": \"(Uzb)\", \"VEN\": \"(Ven)\", \"VIE\": \"(Vie)\", \"YEM\": \"(Yem)\", \"ZAM\": \"(Zam)\", \"ZIM\": \"(Zim)\"}\n",
    "\n",
    "# Change directory\n",
    "results_loc = \"/Users/lauraweislo/Desktop/Incoming\"#input(\"Enter the path for your download directory: \")\n",
    "try:\n",
    "    os.chdir(results_loc)\n",
    "except FileNotFoundError:\n",
    "    print(\"Please change the directory to the location of your results files\")\n",
    "\n",
    "\n",
    "# List all files and directories in current directory\n",
    "files = glob.glob((results_loc + \"/*.xlsx\").split(\"/\")[-1])\n",
    "print(files)\n",
    "# Loop through each spreadsheet and create a dataframe\n",
    "\n",
    "for item in files:\n",
    "    file_count = 0\n",
    "    if \"Results\" in item:\n",
    "        try:\n",
    "            xl = pd.ExcelFile(item)\n",
    "        except XLRDError:\n",
    "            print(\"Close any open files and try again\")\n",
    "# Get the portion of the filename\n",
    "        if '(' in item:\n",
    "            file_name = item.replace('Results (', '').replace(')', '').replace('.xlsx', '')\n",
    "        else:\n",
    "            file_name = str(file_count)\n",
    "        print(file_name)\n",
    "        file_count += 1\n",
    "# Load a sheet into a DataFrame by name: df1\n",
    "        df1 = xl.parse('Results')\n",
    "        cn_format(df1, file_name)"
   ]
  },
  {
   "cell_type": "code",
   "execution_count": null,
   "metadata": {},
   "outputs": [],
   "source": []
  }
 ],
 "metadata": {
  "kernelspec": {
   "display_name": "Python 3",
   "language": "python",
   "name": "python3"
  },
  "language_info": {
   "codemirror_mode": {
    "name": "ipython",
    "version": 3
   },
   "file_extension": ".py",
   "mimetype": "text/x-python",
   "name": "python",
   "nbconvert_exporter": "python",
   "pygments_lexer": "ipython3",
   "version": "3.6.8"
  }
 },
 "nbformat": 4,
 "nbformat_minor": 2
}
