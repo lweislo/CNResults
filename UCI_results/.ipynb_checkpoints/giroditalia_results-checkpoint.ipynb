{
 "cells": [
  {
   "cell_type": "code",
   "execution_count": 554,
   "metadata": {},
   "outputs": [],
   "source": [
    "import requests\n",
    "import pandas as pd\n",
    "from bs4 import BeautifulSoup\n",
    "from splinter import Browser\n",
    "from splinter.exceptions import ElementDoesNotExist\n"
   ]
  },
  {
   "cell_type": "code",
   "execution_count": 545,
   "metadata": {},
   "outputs": [],
   "source": [
    "def output_file(header_list, table_list):\n",
    "    outfile = input(\"Enter your desired CSV filename: \" or \"giro_results.csv\")\n",
    "    with open(outfile, 'w') as file:\n",
    "        for item in range(0, len(header_list)):\n",
    "            file.write(f'\\n {header_list[item]}\\n')\n",
    "            file.write(table_list[item].to_csv(header=False, index=False))"
   ]
  },
  {
   "cell_type": "code",
   "execution_count": 546,
   "metadata": {},
   "outputs": [],
   "source": [
    "def init_browser():\n",
    "    # Mac-specific browser init\n",
    "    executable_path = {'executable_path': '/usr/local/bin/chromedriver'}\n",
    "    browser = Browser('chrome', **executable_path, headless=False)\n",
    "    return browser"
   ]
  },
  {
   "cell_type": "code",
   "execution_count": 547,
   "metadata": {},
   "outputs": [],
   "source": [
    "def format_tables(headers, table_list):\n",
    "    for item in range(0, len(table_list)):\n",
    "        if \"Tempo\" in table_list[item]:\n",
    "            table_list[item] = table_list[item][[\"Unnamed: 1\", \"Corridore\",\"Tempo\"]]\n",
    "            table_list[item][\"Tempo\"] = table_list[item][\"Tempo\"].str.replace(\"h \", \":\").str.replace(\"\\’ \",\":\").str.replace(\"”\", \"\")\n",
    "        elif \"punti\" in table_list[item]:\n",
    "            table_list[item] = table_list[item][[\"Unnamed: 1\", \"Corridore\",\"punti\"]]\n",
    "        elif \"Team.1\" in table_list[item]:\n",
    "            table_list[item] = table_list[item][[\"Unnamed: 1\", \"Corridore\"]]\n",
    "\n",
    "    for item in table_list:\n",
    "        item['Corridore'] = item['Corridore'].map(macros).fillna(item['Corridore'])\n",
    "\n",
    "    header_list = []\n",
    "    for item in headers:\n",
    "        header_list.append(item.split(\"| \")[1].split(\" (Ufficiale)\")[0])\n",
    "    output_file(header_list, table_list)\n"
   ]
  },
  {
   "cell_type": "code",
   "execution_count": 548,
   "metadata": {},
   "outputs": [],
   "source": [
    "def parse_tables(stage_tables):\n",
    "    headers = []\n",
    "    table_list = []\n",
    "    for n in range(1,3):    \n",
    "        for item in stage_tables[n]:\n",
    "            try:\n",
    "                head = item.find('h2').get_text()\n",
    "                headers.append(head)\n",
    "                tables = item.find('table')\n",
    "                table_list.append(pd.read_html(str(tables))[0])\n",
    "            except ElementDoesNotExist:\n",
    "                print(\"No valid results found, sorry\")\n",
    "    format_tables(headers, table_list)\n"
   ]
  },
  {
   "cell_type": "code",
   "execution_count": 549,
   "metadata": {},
   "outputs": [],
   "source": [
    "def scrape_giro(stage):\n",
    "    browser = init_browser()\n",
    "    browser.visit(stage)\n",
    "    sleep(5)\n",
    "    # Scrape the page\n",
    "    soup = BeautifulSoup(browser.html, 'lxml')\n",
    "    try:\n",
    "        stage_tables = soup.find_all('div', class_='tabs-content')\n",
    "    except ElementDoesNotExist:\n",
    "        print(\"Results not found\")\n",
    "    browser.quit()\n",
    "    parse_tables(stage_tables)"
   ]
  },
  {
   "cell_type": "code",
   "execution_count": 550,
   "metadata": {},
   "outputs": [],
   "source": [
    "def load_macro():\n",
    "# find/replace name macro without headers, 2 columns, 1st col= RCS Sport format rider/team, 2nd col=CN format.\n",
    "    default_macro = \"~/Downloads/gironames.csv\"\n",
    "    macro_file = input(\"Enter location for CSV with find-replace columns:\" or default_macro)\n",
    "    macro = pd.read_csv(macro_file, header=None, index_col=False, names=['name','value'])\n",
    "    macros = macro.set_index('name').to_dict()['value']"
   ]
  },
  {
   "cell_type": "code",
   "execution_count": 552,
   "metadata": {},
   "outputs": [],
   "source": [
    "def start():\n",
    "    load_macro()\n",
    "    default_url = \"http://www.giroditalia.it/it/classifiche/\"\n",
    "    stage = input(\"Enter the URL\" or default_url)\n",
    "    scrape_giro(stage)"
   ]
  },
  {
   "cell_type": "code",
   "execution_count": 553,
   "metadata": {},
   "outputs": [
    {
     "name": "stdout",
     "output_type": "stream",
     "text": [
      "Enter location for CSV with find-replace columns:~/Downloads/gironames.csv\n",
      "Enter the URLhttp://www.giroditalia.it/it/classifiche/\n",
      "Enter your desired CSV filename: mygiro.csv\n"
     ]
    }
   ],
   "source": [
    "start()"
   ]
  },
  {
   "cell_type": "code",
   "execution_count": null,
   "metadata": {},
   "outputs": [],
   "source": []
  }
 ],
 "metadata": {
  "kernelspec": {
   "display_name": "Python 3",
   "language": "python",
   "name": "python3"
  },
  "language_info": {
   "codemirror_mode": {
    "name": "ipython",
    "version": 3
   },
   "file_extension": ".py",
   "mimetype": "text/x-python",
   "name": "python",
   "nbconvert_exporter": "python",
   "pygments_lexer": "ipython3",
   "version": "3.6.8"
  }
 },
 "nbformat": 4,
 "nbformat_minor": 2
}
