{
 "cells": [
  {
   "cell_type": "code",
   "execution_count": 45,
   "metadata": {},
   "outputs": [],
   "source": [
    "import requests\n",
    "import html5lib\n",
    "import pandas as pd\n",
    "from bs4 import BeautifulSoup\n",
    "import os\n",
    "import json"
   ]
  },
  {
   "cell_type": "code",
   "execution_count": 17,
   "metadata": {},
   "outputs": [],
   "source": [
    "# executable_path = {'executable_path': '/usr/local/bin/chromedriver'}\n",
    "# browser = Browser('chrome', **executable_path, headless=False)"
   ]
  },
  {
   "cell_type": "code",
   "execution_count": 82,
   "metadata": {},
   "outputs": [],
   "source": [
    "start_url=\"https://www.paris-nice.fr/en/rankings/stage-2\"\n",
    "type_dict = {'e':'Stage', 'g':'General Classification'}\n",
    "tab_dict = {'ite':'Stage',\n",
    "'ipe':'Points',\n",
    "'ime':'Mountains',\n",
    "'ije':'Young riders',\n",
    "'ice':'Combativity',\n",
    "'ete':'Teams',\n",
    "'itg':'General Classification',\n",
    "'ipg':'Points Classification',\n",
    "'img':'Mountains Classification',\n",
    "'ijg':'Young Riders Classification',\n",
    "'icg':'Combativity Classification',\n",
    "'etg':'Teams Classification'}\n",
    "order_list = ['ite', 'ipe', 'ime', 'ije', 'ice', 'ete', 'itg', 'ipg', 'img', 'ijg', 'etg', 'icg']"
   ]
  },
  {
   "cell_type": "code",
   "execution_count": 21,
   "metadata": {},
   "outputs": [
    {
     "name": "stdout",
     "output_type": "stream",
     "text": [
      "2\n"
     ]
    }
   ],
   "source": [
    "#Get the html from the page\n",
    "page = requests.get(start_url)\n",
    "content = page.content\n",
    "soup = BeautifulSoup(content, \"html5lib\")\n",
    "\n",
    "#Pull out a specific block of code with two sets of coded URLs from the soup.\n",
    "all_links = soup.find_all(class_=\"tabs__link js-tabs-ranking\")\n",
    "\n",
    "if len(all_links) == 0:\n",
    "    print(\"That doesn't appear to be an ASO results page as we know it.\")\n",
    "else:\n",
    "    print(len(all_links))\n",
    "\n",
    "try:\n",
    "    start_url = 'https://www.paris-nice.fr/en/rankings/stage-2' #input(\"Enter the results URL: \")\n",
    "    base_url = start_url.split('/')[2]\n",
    "    outfile = (start_url.split('www.')[1].split('.')[0] + '_'+ start_url.split('/')[-1] + '.csv')\n",
    "\n",
    "except:\n",
    "    print(\"That does not appear to be a valid results URL.\")"
   ]
  },
  {
   "cell_type": "code",
   "execution_count": 24,
   "metadata": {},
   "outputs": [
    {
     "data": {
      "text/plain": [
       "<a class=\"tabs__link js-tabs-ranking\" data-ajax-stack='{\"itg\":\"\\/en\\/ajax\\/ranking\\/2\\/itg\\/fca07fb6b35baa3d6dfe2d4500ea91ed\\/none\",\"ipg\":\"\\/en\\/ajax\\/ranking\\/2\\/ipg\\/911729cf582be501a97e41ac2bb6a040\\/none\",\"etg\":\"\\/en\\/ajax\\/ranking\\/2\\/etg\\/a6726c4a9d04e10e31f78676fcebd5cd\\/none\",\"img\":\"\\/en\\/ajax\\/ranking\\/2\\/img\\/fe40aebbf8475ef7d5f9415e1b371b9d\\/none\",\"ijg\":\"\\/en\\/ajax\\/ranking\\/2\\/ijg\\/a963a600a2e13db0ca782ee089b4e010\\/none\"}' data-type=\"g\" data-xtclick=\"ranking::tab::overall\" href=\"it\">General classification</a>"
      ]
     },
     "execution_count": 24,
     "metadata": {},
     "output_type": "execute_result"
    }
   ],
   "source": [
    "all_links[0]"
   ]
  },
  {
   "cell_type": "code",
   "execution_count": 90,
   "metadata": {},
   "outputs": [
    {
     "name": "stdout",
     "output_type": "stream",
     "text": [
      "Stage\n",
      "http://www.paris-nice.fr/en/ajax/ranking/2/ite/6f21d73eddddbb74e35c0113a43935ca/none\n",
      "Points\n",
      "http://www.paris-nice.fr/en/ajax/ranking/2/ipe/b7b8a6ce4bba7b1390561280c900d179/none\n",
      "Mountains\n",
      "http://www.paris-nice.fr/en/ajax/ranking/2/ime/e85c463644dbc71dd7c047b005fb27d8/none\n",
      "Young riders\n",
      "http://www.paris-nice.fr/en/ajax/ranking/2/ije/a2201afcefd73c51359efff767231b1a/none\n",
      "Combativity\n",
      "Teams\n",
      "http://www.paris-nice.fr/en/ajax/ranking/2/ete/d8a79ac4fbfcc06476b26bb98e4d39b5/none\n",
      "General Classification\n",
      "http://www.paris-nice.fr/en/ajax/ranking/2/itg/fca07fb6b35baa3d6dfe2d4500ea91ed/none\n",
      "Points Classification\n",
      "http://www.paris-nice.fr/en/ajax/ranking/2/ipg/911729cf582be501a97e41ac2bb6a040/none\n",
      "Mountains Classification\n",
      "http://www.paris-nice.fr/en/ajax/ranking/2/img/fe40aebbf8475ef7d5f9415e1b371b9d/none\n",
      "Young Riders Classification\n",
      "http://www.paris-nice.fr/en/ajax/ranking/2/ijg/a963a600a2e13db0ca782ee089b4e010/none\n",
      "Combativity Classification\n",
      "Teams Classification\n",
      "http://www.paris-nice.fr/en/ajax/ranking/2/etg/a6726c4a9d04e10e31f78676fcebd5cd/none\n"
     ]
    }
   ],
   "source": [
    "# Parsing out the list of json-ish links from the DOM into a dictionary of functional URLs, \n",
    "# one for each item in the tab_dict. We can get the category from the tab_dict values, but for stage\n",
    "# points and mountains we will have to get the category from the page div class \"rankingTables__caption\"\n",
    "url_dict = {}\n",
    "\n",
    "for item in all_links:\n",
    "    myurl = item['data-ajax-stack']\n",
    "    #clean up the code into a useable URL\n",
    "    myurl = myurl.replace('\\/', '/')\n",
    "    myurls = json.loads(myurl)\n",
    "    for key, value in myurls.items():\n",
    "        url_dict[key] = f\"http://{base_url}{value}\"\n",
    "\n",
    "for key, value in tab_dict.items():\n",
    "    try:\n",
    "        print(value)\n",
    "        print(url_dict[key])\n",
    "    except KeyError:\n",
    "        pass"
   ]
  },
  {
   "cell_type": "code",
   "execution_count": 69,
   "metadata": {},
   "outputs": [],
   "source": [
    "# TODO: Need to add table[0] to the dataframe with a column for the race, stage, and results classification.\n",
    "# The stage points and mountains might have >1 table. If so, these will have to be added one at a time\n",
    "# and we'll need to get the individual mountain/sprint heading from the page which is a div \"rankingTables_caption\"\n",
    "\n",
    "for item in order_list:\n",
    "    try:\n",
    "        link_list.append(url_dict[item])\n",
    "        table = pd.read_html(url_dict[item])\n",
    "        table_list.append(table)\n",
    "    except KeyError:\n",
    "        pass\n",
    "#     tables = pd.read_html(url)\n",
    "#     with open(f'output.csv','a+') as output:\n",
    "#         for i in tables:\n",
    "#             i.to_csv(output, header=False, sep = \"\\t\", index_label=False)"
   ]
  },
  {
   "cell_type": "code",
   "execution_count": 75,
   "metadata": {},
   "outputs": [
    {
     "data": {
      "text/html": [
       "<div>\n",
       "<style scoped>\n",
       "    .dataframe tbody tr th:only-of-type {\n",
       "        vertical-align: middle;\n",
       "    }\n",
       "\n",
       "    .dataframe tbody tr th {\n",
       "        vertical-align: top;\n",
       "    }\n",
       "\n",
       "    .dataframe thead th {\n",
       "        text-align: right;\n",
       "    }\n",
       "</style>\n",
       "<table border=\"1\" class=\"dataframe\">\n",
       "  <thead>\n",
       "    <tr style=\"text-align: right;\">\n",
       "      <th></th>\n",
       "      <th>Rank</th>\n",
       "      <th>Rider</th>\n",
       "      <th>Rider No.</th>\n",
       "      <th>Team</th>\n",
       "      <th>Points</th>\n",
       "      <th>B</th>\n",
       "    </tr>\n",
       "  </thead>\n",
       "  <tbody>\n",
       "    <tr>\n",
       "      <th>0</th>\n",
       "      <td>1</td>\n",
       "      <td>DYLAN GROENEWEGEN</td>\n",
       "      <td>141</td>\n",
       "      <td>TEAM JUMBO - VISMA</td>\n",
       "      <td>15 PTS</td>\n",
       "      <td>B : 10''</td>\n",
       "    </tr>\n",
       "    <tr>\n",
       "      <th>1</th>\n",
       "      <td>2</td>\n",
       "      <td>IVAN GARCIA CORTINA</td>\n",
       "      <td>43</td>\n",
       "      <td>BAHRAIN - MERIDA</td>\n",
       "      <td>12 PTS</td>\n",
       "      <td>B : 6''</td>\n",
       "    </tr>\n",
       "    <tr>\n",
       "      <th>2</th>\n",
       "      <td>3</td>\n",
       "      <td>PHILIPPE GILBERT</td>\n",
       "      <td>113</td>\n",
       "      <td>DECEUNINCK - QUICK - STEP</td>\n",
       "      <td>9 PTS</td>\n",
       "      <td>B : 4''</td>\n",
       "    </tr>\n",
       "    <tr>\n",
       "      <th>3</th>\n",
       "      <td>4</td>\n",
       "      <td>MATTEO TRENTIN</td>\n",
       "      <td>17</td>\n",
       "      <td>MITCHELTON - SCOTT</td>\n",
       "      <td>7 PTS</td>\n",
       "      <td>-</td>\n",
       "    </tr>\n",
       "    <tr>\n",
       "      <th>4</th>\n",
       "      <td>5</td>\n",
       "      <td>MICHAL KWIATKOWSKI</td>\n",
       "      <td>74</td>\n",
       "      <td>TEAM SKY</td>\n",
       "      <td>6 PTS</td>\n",
       "      <td>-</td>\n",
       "    </tr>\n",
       "    <tr>\n",
       "      <th>5</th>\n",
       "      <td>6</td>\n",
       "      <td>LUIS LEÃN SANCHEZ</td>\n",
       "      <td>27</td>\n",
       "      <td>ASTANA PRO TEAM</td>\n",
       "      <td>5 PTS</td>\n",
       "      <td>-</td>\n",
       "    </tr>\n",
       "    <tr>\n",
       "      <th>6</th>\n",
       "      <td>7</td>\n",
       "      <td>EGAN ARLEY BERNAL GOMEZ</td>\n",
       "      <td>71</td>\n",
       "      <td>TEAM SKY</td>\n",
       "      <td>4 PTS</td>\n",
       "      <td>-</td>\n",
       "    </tr>\n",
       "    <tr>\n",
       "      <th>7</th>\n",
       "      <td>8</td>\n",
       "      <td>ARNAUD DEMARE</td>\n",
       "      <td>101</td>\n",
       "      <td>GROUPAMA - FDJ</td>\n",
       "      <td>3 PTS</td>\n",
       "      <td>-</td>\n",
       "    </tr>\n",
       "    <tr>\n",
       "      <th>8</th>\n",
       "      <td>9</td>\n",
       "      <td>ANDRÃ GREIPEL</td>\n",
       "      <td>134</td>\n",
       "      <td>TEAM ARKEA - SAMSIC</td>\n",
       "      <td>2 PTS</td>\n",
       "      <td>-</td>\n",
       "    </tr>\n",
       "    <tr>\n",
       "      <th>9</th>\n",
       "      <td>10</td>\n",
       "      <td>MIKE TEUNISSEN</td>\n",
       "      <td>146</td>\n",
       "      <td>TEAM JUMBO - VISMA</td>\n",
       "      <td>1 PTS</td>\n",
       "      <td>-</td>\n",
       "    </tr>\n",
       "  </tbody>\n",
       "</table>\n",
       "</div>"
      ],
      "text/plain": [
       "   Rank                    Rider  Rider No.                       Team  \\\n",
       "0     1        DYLAN GROENEWEGEN        141         TEAM JUMBO - VISMA   \n",
       "1     2      IVAN GARCIA CORTINA         43           BAHRAIN - MERIDA   \n",
       "2     3         PHILIPPE GILBERT        113  DECEUNINCK - QUICK - STEP   \n",
       "3     4           MATTEO TRENTIN         17         MITCHELTON - SCOTT   \n",
       "4     5       MICHAL KWIATKOWSKI         74                   TEAM SKY   \n",
       "5     6       LUIS LEÃN SANCHEZ         27            ASTANA PRO TEAM   \n",
       "6     7  EGAN ARLEY BERNAL GOMEZ         71                   TEAM SKY   \n",
       "7     8            ARNAUD DEMARE        101             GROUPAMA - FDJ   \n",
       "8     9           ANDRÃ GREIPEL        134        TEAM ARKEA - SAMSIC   \n",
       "9    10           MIKE TEUNISSEN        146         TEAM JUMBO - VISMA   \n",
       "\n",
       "   Points         B  \n",
       "0  15 PTS  B : 10''  \n",
       "1  12 PTS   B : 6''  \n",
       "2   9 PTS   B : 4''  \n",
       "3   7 PTS         -  \n",
       "4   6 PTS         -  \n",
       "5   5 PTS         -  \n",
       "6   4 PTS         -  \n",
       "7   3 PTS         -  \n",
       "8   2 PTS         -  \n",
       "9   1 PTS         -  "
      ]
     },
     "execution_count": 75,
     "metadata": {},
     "output_type": "execute_result"
    }
   ],
   "source": [
    "table_list[1][2]"
   ]
  },
  {
   "cell_type": "code",
   "execution_count": null,
   "metadata": {},
   "outputs": [],
   "source": []
  }
 ],
 "metadata": {
  "kernelspec": {
   "display_name": "Python 3",
   "language": "python",
   "name": "python3"
  },
  "language_info": {
   "codemirror_mode": {
    "name": "ipython",
    "version": 3
   },
   "file_extension": ".py",
   "mimetype": "text/x-python",
   "name": "python",
   "nbconvert_exporter": "python",
   "pygments_lexer": "ipython3",
   "version": "3.7.0"
  }
 },
 "nbformat": 4,
 "nbformat_minor": 2
}
