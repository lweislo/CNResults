{
 "cells": [
  {
   "cell_type": "code",
   "execution_count": 1,
   "metadata": {},
   "outputs": [],
   "source": [
    "import requests\n",
    "import html5lib\n",
    "import pandas as pd\n",
    "from bs4 import BeautifulSoup\n",
    "import os\n",
    "import json\n",
    "import numpy as np\n"
   ]
  },
  {
   "cell_type": "code",
   "execution_count": 10,
   "metadata": {},
   "outputs": [],
   "source": [
    "base_url = \"https://www.letour.fr\"\n",
    "type_dict = {'e':'Stage', 'g':'General Classification'}\n",
    "tab_dict = {'ite':'Stage',\n",
    "'ipe':'Points',\n",
    "'ime':'Mountains',\n",
    "'ije':'Young riders',\n",
    "'ice':'Combativity',\n",
    "'ete':'Teams',\n",
    "'itg':'General Classification',\n",
    "'ipg':'Points Classification',\n",
    "'img':'Mountains Classification',\n",
    "'ijg':'Young Riders Classification',\n",
    "'icg':'Combativity Classification',\n",
    "'etg':'Teams Classification'}\n",
    "order_list = ['ite', 'ipe', 'ime', 'ije', 'ice', 'ete', 'itg', 'ipg', 'img', 'ijg', 'etg', 'icg']\n",
    "short_list = ['ite','itg']"
   ]
  },
  {
   "cell_type": "code",
   "execution_count": 11,
   "metadata": {},
   "outputs": [],
   "source": [
    "stages = np.arange(1,2)"
   ]
  },
  {
   "cell_type": "code",
   "execution_count": 12,
   "metadata": {},
   "outputs": [],
   "source": [
    "links_list = []\n",
    "for item in stages:\n",
    "    start_url = f\"{base_url}en/rankings/stage-{item}\" #input(\"Enter the results URL: \")\n",
    "    page = requests.get(start_url)\n",
    "    if page.status_code == 200:\n",
    "        content = page.content\n",
    "        soup = BeautifulSoup(content, \"html5lib\")\n",
    "\n",
    "    #Pull out a specific block of code with two sets of coded URLs from the soup.\n",
    "        try:\n",
    "            all_links = soup.find_all(class_=\"tabs__link js-tabs-ranking\")\n",
    "            links_list.append(all_links)\n",
    "        except ElementDoesNotExist as e:\n",
    "            print(f\"That does not appear to be a valid results URL. {e}\")"
   ]
  },
  {
   "cell_type": "code",
   "execution_count": 13,
   "metadata": {},
   "outputs": [],
   "source": [
    "#         base_url = start_url.split('/')[2]\n",
    "#         outfile = (start_url.split('www.')[1].split('.')[0] + '_'+ start_url.split('/')[-1] + '.csv')"
   ]
  },
  {
   "cell_type": "code",
   "execution_count": 14,
   "metadata": {},
   "outputs": [
    {
     "data": {
      "text/plain": [
       "[[<a class=\"tabs__link js-tabs-ranking\" data-ajax-stack='{\"itg\":\"\\/en\\/ajax\\/ranking\\/1\\/itg\\/bd845dfbbdf0630f11da790f0cad3096\\/none\",\"ipg\":\"\\/en\\/ajax\\/ranking\\/1\\/ipg\\/2e50858f0d77639053cc601af0b6cbdb\\/none\",\"etg\":\"\\/en\\/ajax\\/ranking\\/1\\/etg\\/f1b2d0eb8693db6e4027ff95deca603d\\/none\",\"img\":\"\\/en\\/ajax\\/ranking\\/1\\/img\\/d265b181815ffb4a503d6e0ed9506005\\/none\",\"ijg\":\"\\/en\\/ajax\\/ranking\\/1\\/ijg\\/ca5d1eea68fc753c67ebe11a618c2580\\/none\",\"icg\":\"\\/en\\/ajax\\/ranking\\/1\\/icg\\/5a819d202911cc09d579b429a8e2c43e\\/none\"}' data-type=\"g\" data-xtclick=\"ranking::tab::overall\" href=\"it\">General classification</a>,\n",
       "  <a class=\"tabs__link js-tabs-ranking\" data-ajax-stack='{\"ite\":\"\\/en\\/ajax\\/ranking\\/1\\/ite\\/72d3750b88cc75c1e386e3a8f55a9d96\\/none\",\"ipe\":\"\\/en\\/ajax\\/ranking\\/1\\/ipe\\/146f21c83187983073965fa20531ed94\\/none\",\"ete\":\"\\/en\\/ajax\\/ranking\\/1\\/ete\\/eac6423eb988564ee16aa681402f83e2\\/none\",\"ime\":\"\\/en\\/ajax\\/ranking\\/1\\/ime\\/e2baaa6161138846207204bd4e4f9146\\/none\",\"ije\":\"\\/en\\/ajax\\/ranking\\/1\\/ije\\/d60ac3c78831b56f2d91d5d4111132dd\\/none\",\"ice\":\"\\/en\\/ajax\\/ranking\\/1\\/ice\\/c0e341ec9af94bd2f071434d33fa2014\\/none\"}' data-type=\"e\" data-xtclick=\"ranking::tab::stage\" href=\"it\">Stage classification</a>]]"
      ]
     },
     "execution_count": 14,
     "metadata": {},
     "output_type": "execute_result"
    }
   ],
   "source": [
    "links_list"
   ]
  },
  {
   "cell_type": "code",
   "execution_count": 15,
   "metadata": {},
   "outputs": [
    {
     "name": "stdout",
     "output_type": "stream",
     "text": [
      "Stage\n",
      "http://https://www.letour.fr//en/ajax/ranking/1/ite/72d3750b88cc75c1e386e3a8f55a9d96/none\n",
      "Points\n",
      "http://https://www.letour.fr//en/ajax/ranking/1/ipe/146f21c83187983073965fa20531ed94/none\n",
      "Mountains\n",
      "http://https://www.letour.fr//en/ajax/ranking/1/ime/e2baaa6161138846207204bd4e4f9146/none\n",
      "Young riders\n",
      "http://https://www.letour.fr//en/ajax/ranking/1/ije/d60ac3c78831b56f2d91d5d4111132dd/none\n",
      "Combativity\n",
      "http://https://www.letour.fr//en/ajax/ranking/1/ice/c0e341ec9af94bd2f071434d33fa2014/none\n",
      "Teams\n",
      "http://https://www.letour.fr//en/ajax/ranking/1/ete/eac6423eb988564ee16aa681402f83e2/none\n",
      "General Classification\n",
      "http://https://www.letour.fr//en/ajax/ranking/1/itg/bd845dfbbdf0630f11da790f0cad3096/none\n",
      "Points Classification\n",
      "http://https://www.letour.fr//en/ajax/ranking/1/ipg/2e50858f0d77639053cc601af0b6cbdb/none\n",
      "Mountains Classification\n",
      "http://https://www.letour.fr//en/ajax/ranking/1/img/d265b181815ffb4a503d6e0ed9506005/none\n",
      "Young Riders Classification\n",
      "http://https://www.letour.fr//en/ajax/ranking/1/ijg/ca5d1eea68fc753c67ebe11a618c2580/none\n",
      "Combativity Classification\n",
      "http://https://www.letour.fr//en/ajax/ranking/1/icg/5a819d202911cc09d579b429a8e2c43e/none\n",
      "Teams Classification\n",
      "http://https://www.letour.fr//en/ajax/ranking/1/etg/f1b2d0eb8693db6e4027ff95deca603d/none\n"
     ]
    }
   ],
   "source": [
    "# Parsing out the list of json-ish links from the DOM into a dictionary of functional URLs, \n",
    "# one for each item in the tab_dict. We can get the category from the tab_dict values, but for stage\n",
    "# points and mountains we will have to get the category from the page div class \"rankingTables__caption\"\n",
    "url_dict = {}\n",
    "\n",
    "for item in all_links:\n",
    "    myurl = item['data-ajax-stack']\n",
    "    #clean up the code into a useable URL\n",
    "    myurl = myurl.replace('\\/', '/')\n",
    "    myurls = json.loads(myurl)\n",
    "    for key, value in myurls.items():\n",
    "        url_dict[key] = f\"http://{base_url}{value}\"\n",
    "\n",
    "for key, value in tab_dict.items():\n",
    "    try:\n",
    "        print(value)\n",
    "        print(url_dict[key])\n",
    "    except KeyError:\n",
    "        pass"
   ]
  },
  {
   "cell_type": "code",
   "execution_count": 16,
   "metadata": {},
   "outputs": [
    {
     "ename": "URLError",
     "evalue": "<urlopen error [Errno 61] Connection refused>",
     "output_type": "error",
     "traceback": [
      "\u001b[0;31m---------------------------------------------------------------------------\u001b[0m",
      "\u001b[0;31mConnectionRefusedError\u001b[0m                    Traceback (most recent call last)",
      "\u001b[0;32m~/anaconda3/lib/python3.7/urllib/request.py\u001b[0m in \u001b[0;36mdo_open\u001b[0;34m(self, http_class, req, **http_conn_args)\u001b[0m\n\u001b[1;32m   1316\u001b[0m                 h.request(req.get_method(), req.selector, req.data, headers,\n\u001b[0;32m-> 1317\u001b[0;31m                           encode_chunked=req.has_header('Transfer-encoding'))\n\u001b[0m\u001b[1;32m   1318\u001b[0m             \u001b[0;32mexcept\u001b[0m \u001b[0mOSError\u001b[0m \u001b[0;32mas\u001b[0m \u001b[0merr\u001b[0m\u001b[0;34m:\u001b[0m \u001b[0;31m# timeout error\u001b[0m\u001b[0;34m\u001b[0m\u001b[0m\n",
      "\u001b[0;32m~/anaconda3/lib/python3.7/http/client.py\u001b[0m in \u001b[0;36mrequest\u001b[0;34m(self, method, url, body, headers, encode_chunked)\u001b[0m\n\u001b[1;32m   1228\u001b[0m         \u001b[0;34m\"\"\"Send a complete request to the server.\"\"\"\u001b[0m\u001b[0;34m\u001b[0m\u001b[0m\n\u001b[0;32m-> 1229\u001b[0;31m         \u001b[0mself\u001b[0m\u001b[0;34m.\u001b[0m\u001b[0m_send_request\u001b[0m\u001b[0;34m(\u001b[0m\u001b[0mmethod\u001b[0m\u001b[0;34m,\u001b[0m \u001b[0murl\u001b[0m\u001b[0;34m,\u001b[0m \u001b[0mbody\u001b[0m\u001b[0;34m,\u001b[0m \u001b[0mheaders\u001b[0m\u001b[0;34m,\u001b[0m \u001b[0mencode_chunked\u001b[0m\u001b[0;34m)\u001b[0m\u001b[0;34m\u001b[0m\u001b[0m\n\u001b[0m\u001b[1;32m   1230\u001b[0m \u001b[0;34m\u001b[0m\u001b[0m\n",
      "\u001b[0;32m~/anaconda3/lib/python3.7/http/client.py\u001b[0m in \u001b[0;36m_send_request\u001b[0;34m(self, method, url, body, headers, encode_chunked)\u001b[0m\n\u001b[1;32m   1274\u001b[0m             \u001b[0mbody\u001b[0m \u001b[0;34m=\u001b[0m \u001b[0m_encode\u001b[0m\u001b[0;34m(\u001b[0m\u001b[0mbody\u001b[0m\u001b[0;34m,\u001b[0m \u001b[0;34m'body'\u001b[0m\u001b[0;34m)\u001b[0m\u001b[0;34m\u001b[0m\u001b[0m\n\u001b[0;32m-> 1275\u001b[0;31m         \u001b[0mself\u001b[0m\u001b[0;34m.\u001b[0m\u001b[0mendheaders\u001b[0m\u001b[0;34m(\u001b[0m\u001b[0mbody\u001b[0m\u001b[0;34m,\u001b[0m \u001b[0mencode_chunked\u001b[0m\u001b[0;34m=\u001b[0m\u001b[0mencode_chunked\u001b[0m\u001b[0;34m)\u001b[0m\u001b[0;34m\u001b[0m\u001b[0m\n\u001b[0m\u001b[1;32m   1276\u001b[0m \u001b[0;34m\u001b[0m\u001b[0m\n",
      "\u001b[0;32m~/anaconda3/lib/python3.7/http/client.py\u001b[0m in \u001b[0;36mendheaders\u001b[0;34m(self, message_body, encode_chunked)\u001b[0m\n\u001b[1;32m   1223\u001b[0m             \u001b[0;32mraise\u001b[0m \u001b[0mCannotSendHeader\u001b[0m\u001b[0;34m(\u001b[0m\u001b[0;34m)\u001b[0m\u001b[0;34m\u001b[0m\u001b[0m\n\u001b[0;32m-> 1224\u001b[0;31m         \u001b[0mself\u001b[0m\u001b[0;34m.\u001b[0m\u001b[0m_send_output\u001b[0m\u001b[0;34m(\u001b[0m\u001b[0mmessage_body\u001b[0m\u001b[0;34m,\u001b[0m \u001b[0mencode_chunked\u001b[0m\u001b[0;34m=\u001b[0m\u001b[0mencode_chunked\u001b[0m\u001b[0;34m)\u001b[0m\u001b[0;34m\u001b[0m\u001b[0m\n\u001b[0m\u001b[1;32m   1225\u001b[0m \u001b[0;34m\u001b[0m\u001b[0m\n",
      "\u001b[0;32m~/anaconda3/lib/python3.7/http/client.py\u001b[0m in \u001b[0;36m_send_output\u001b[0;34m(self, message_body, encode_chunked)\u001b[0m\n\u001b[1;32m   1015\u001b[0m         \u001b[0;32mdel\u001b[0m \u001b[0mself\u001b[0m\u001b[0;34m.\u001b[0m\u001b[0m_buffer\u001b[0m\u001b[0;34m[\u001b[0m\u001b[0;34m:\u001b[0m\u001b[0;34m]\u001b[0m\u001b[0;34m\u001b[0m\u001b[0m\n\u001b[0;32m-> 1016\u001b[0;31m         \u001b[0mself\u001b[0m\u001b[0;34m.\u001b[0m\u001b[0msend\u001b[0m\u001b[0;34m(\u001b[0m\u001b[0mmsg\u001b[0m\u001b[0;34m)\u001b[0m\u001b[0;34m\u001b[0m\u001b[0m\n\u001b[0m\u001b[1;32m   1017\u001b[0m \u001b[0;34m\u001b[0m\u001b[0m\n",
      "\u001b[0;32m~/anaconda3/lib/python3.7/http/client.py\u001b[0m in \u001b[0;36msend\u001b[0;34m(self, data)\u001b[0m\n\u001b[1;32m    955\u001b[0m             \u001b[0;32mif\u001b[0m \u001b[0mself\u001b[0m\u001b[0;34m.\u001b[0m\u001b[0mauto_open\u001b[0m\u001b[0;34m:\u001b[0m\u001b[0;34m\u001b[0m\u001b[0m\n\u001b[0;32m--> 956\u001b[0;31m                 \u001b[0mself\u001b[0m\u001b[0;34m.\u001b[0m\u001b[0mconnect\u001b[0m\u001b[0;34m(\u001b[0m\u001b[0;34m)\u001b[0m\u001b[0;34m\u001b[0m\u001b[0m\n\u001b[0m\u001b[1;32m    957\u001b[0m             \u001b[0;32melse\u001b[0m\u001b[0;34m:\u001b[0m\u001b[0;34m\u001b[0m\u001b[0m\n",
      "\u001b[0;32m~/anaconda3/lib/python3.7/http/client.py\u001b[0m in \u001b[0;36mconnect\u001b[0;34m(self)\u001b[0m\n\u001b[1;32m    927\u001b[0m         self.sock = self._create_connection(\n\u001b[0;32m--> 928\u001b[0;31m             (self.host,self.port), self.timeout, self.source_address)\n\u001b[0m\u001b[1;32m    929\u001b[0m         \u001b[0mself\u001b[0m\u001b[0;34m.\u001b[0m\u001b[0msock\u001b[0m\u001b[0;34m.\u001b[0m\u001b[0msetsockopt\u001b[0m\u001b[0;34m(\u001b[0m\u001b[0msocket\u001b[0m\u001b[0;34m.\u001b[0m\u001b[0mIPPROTO_TCP\u001b[0m\u001b[0;34m,\u001b[0m \u001b[0msocket\u001b[0m\u001b[0;34m.\u001b[0m\u001b[0mTCP_NODELAY\u001b[0m\u001b[0;34m,\u001b[0m \u001b[0;36m1\u001b[0m\u001b[0;34m)\u001b[0m\u001b[0;34m\u001b[0m\u001b[0m\n",
      "\u001b[0;32m~/anaconda3/lib/python3.7/socket.py\u001b[0m in \u001b[0;36mcreate_connection\u001b[0;34m(address, timeout, source_address)\u001b[0m\n\u001b[1;32m    726\u001b[0m     \u001b[0;32mif\u001b[0m \u001b[0merr\u001b[0m \u001b[0;32mis\u001b[0m \u001b[0;32mnot\u001b[0m \u001b[0;32mNone\u001b[0m\u001b[0;34m:\u001b[0m\u001b[0;34m\u001b[0m\u001b[0m\n\u001b[0;32m--> 727\u001b[0;31m         \u001b[0;32mraise\u001b[0m \u001b[0merr\u001b[0m\u001b[0;34m\u001b[0m\u001b[0m\n\u001b[0m\u001b[1;32m    728\u001b[0m     \u001b[0;32melse\u001b[0m\u001b[0;34m:\u001b[0m\u001b[0;34m\u001b[0m\u001b[0m\n",
      "\u001b[0;32m~/anaconda3/lib/python3.7/socket.py\u001b[0m in \u001b[0;36mcreate_connection\u001b[0;34m(address, timeout, source_address)\u001b[0m\n\u001b[1;32m    715\u001b[0m                 \u001b[0msock\u001b[0m\u001b[0;34m.\u001b[0m\u001b[0mbind\u001b[0m\u001b[0;34m(\u001b[0m\u001b[0msource_address\u001b[0m\u001b[0;34m)\u001b[0m\u001b[0;34m\u001b[0m\u001b[0m\n\u001b[0;32m--> 716\u001b[0;31m             \u001b[0msock\u001b[0m\u001b[0;34m.\u001b[0m\u001b[0mconnect\u001b[0m\u001b[0;34m(\u001b[0m\u001b[0msa\u001b[0m\u001b[0;34m)\u001b[0m\u001b[0;34m\u001b[0m\u001b[0m\n\u001b[0m\u001b[1;32m    717\u001b[0m             \u001b[0;31m# Break explicitly a reference cycle\u001b[0m\u001b[0;34m\u001b[0m\u001b[0;34m\u001b[0m\u001b[0m\n",
      "\u001b[0;31mConnectionRefusedError\u001b[0m: [Errno 61] Connection refused",
      "\nDuring handling of the above exception, another exception occurred:\n",
      "\u001b[0;31mURLError\u001b[0m                                  Traceback (most recent call last)",
      "\u001b[0;32m<ipython-input-16-d391de7bed13>\u001b[0m in \u001b[0;36m<module>\u001b[0;34m()\u001b[0m\n\u001b[1;32m      5\u001b[0m \u001b[0;32mfor\u001b[0m \u001b[0mitem\u001b[0m \u001b[0;32min\u001b[0m \u001b[0mshort_list\u001b[0m\u001b[0;34m:\u001b[0m\u001b[0;34m\u001b[0m\u001b[0m\n\u001b[1;32m      6\u001b[0m     \u001b[0;32mtry\u001b[0m\u001b[0;34m:\u001b[0m\u001b[0;34m\u001b[0m\u001b[0m\n\u001b[0;32m----> 7\u001b[0;31m         \u001b[0mtable\u001b[0m \u001b[0;34m=\u001b[0m \u001b[0mpd\u001b[0m\u001b[0;34m.\u001b[0m\u001b[0mread_html\u001b[0m\u001b[0;34m(\u001b[0m\u001b[0murl_dict\u001b[0m\u001b[0;34m[\u001b[0m\u001b[0mitem\u001b[0m\u001b[0;34m]\u001b[0m\u001b[0;34m)\u001b[0m\u001b[0;34m\u001b[0m\u001b[0m\n\u001b[0m\u001b[1;32m      8\u001b[0m         \u001b[0mtable_list\u001b[0m\u001b[0;34m.\u001b[0m\u001b[0mappend\u001b[0m\u001b[0;34m(\u001b[0m\u001b[0mtable\u001b[0m\u001b[0;34m)\u001b[0m\u001b[0;34m\u001b[0m\u001b[0m\n\u001b[1;32m      9\u001b[0m     \u001b[0;32mexcept\u001b[0m \u001b[0mKeyError\u001b[0m\u001b[0;34m:\u001b[0m\u001b[0;34m\u001b[0m\u001b[0m\n",
      "\u001b[0;32m~/anaconda3/lib/python3.7/site-packages/pandas/io/html.py\u001b[0m in \u001b[0;36mread_html\u001b[0;34m(io, match, flavor, header, index_col, skiprows, attrs, parse_dates, tupleize_cols, thousands, encoding, decimal, converters, na_values, keep_default_na, displayed_only)\u001b[0m\n\u001b[1;32m    985\u001b[0m                   \u001b[0mdecimal\u001b[0m\u001b[0;34m=\u001b[0m\u001b[0mdecimal\u001b[0m\u001b[0;34m,\u001b[0m \u001b[0mconverters\u001b[0m\u001b[0;34m=\u001b[0m\u001b[0mconverters\u001b[0m\u001b[0;34m,\u001b[0m \u001b[0mna_values\u001b[0m\u001b[0;34m=\u001b[0m\u001b[0mna_values\u001b[0m\u001b[0;34m,\u001b[0m\u001b[0;34m\u001b[0m\u001b[0m\n\u001b[1;32m    986\u001b[0m                   \u001b[0mkeep_default_na\u001b[0m\u001b[0;34m=\u001b[0m\u001b[0mkeep_default_na\u001b[0m\u001b[0;34m,\u001b[0m\u001b[0;34m\u001b[0m\u001b[0m\n\u001b[0;32m--> 987\u001b[0;31m                   displayed_only=displayed_only)\n\u001b[0m",
      "\u001b[0;32m~/anaconda3/lib/python3.7/site-packages/pandas/io/html.py\u001b[0m in \u001b[0;36m_parse\u001b[0;34m(flavor, io, match, attrs, encoding, displayed_only, **kwargs)\u001b[0m\n\u001b[1;32m    813\u001b[0m             \u001b[0;32mbreak\u001b[0m\u001b[0;34m\u001b[0m\u001b[0m\n\u001b[1;32m    814\u001b[0m     \u001b[0;32melse\u001b[0m\u001b[0;34m:\u001b[0m\u001b[0;34m\u001b[0m\u001b[0m\n\u001b[0;32m--> 815\u001b[0;31m         \u001b[0mraise_with_traceback\u001b[0m\u001b[0;34m(\u001b[0m\u001b[0mretained\u001b[0m\u001b[0;34m)\u001b[0m\u001b[0;34m\u001b[0m\u001b[0m\n\u001b[0m\u001b[1;32m    816\u001b[0m \u001b[0;34m\u001b[0m\u001b[0m\n\u001b[1;32m    817\u001b[0m     \u001b[0mret\u001b[0m \u001b[0;34m=\u001b[0m \u001b[0;34m[\u001b[0m\u001b[0;34m]\u001b[0m\u001b[0;34m\u001b[0m\u001b[0m\n",
      "\u001b[0;32m~/anaconda3/lib/python3.7/site-packages/pandas/compat/__init__.py\u001b[0m in \u001b[0;36mraise_with_traceback\u001b[0;34m(exc, traceback)\u001b[0m\n\u001b[1;32m    402\u001b[0m         \u001b[0;32mif\u001b[0m \u001b[0mtraceback\u001b[0m \u001b[0;34m==\u001b[0m \u001b[0mEllipsis\u001b[0m\u001b[0;34m:\u001b[0m\u001b[0;34m\u001b[0m\u001b[0m\n\u001b[1;32m    403\u001b[0m             \u001b[0m_\u001b[0m\u001b[0;34m,\u001b[0m \u001b[0m_\u001b[0m\u001b[0;34m,\u001b[0m \u001b[0mtraceback\u001b[0m \u001b[0;34m=\u001b[0m \u001b[0msys\u001b[0m\u001b[0;34m.\u001b[0m\u001b[0mexc_info\u001b[0m\u001b[0;34m(\u001b[0m\u001b[0;34m)\u001b[0m\u001b[0;34m\u001b[0m\u001b[0m\n\u001b[0;32m--> 404\u001b[0;31m         \u001b[0;32mraise\u001b[0m \u001b[0mexc\u001b[0m\u001b[0;34m.\u001b[0m\u001b[0mwith_traceback\u001b[0m\u001b[0;34m(\u001b[0m\u001b[0mtraceback\u001b[0m\u001b[0;34m)\u001b[0m\u001b[0;34m\u001b[0m\u001b[0m\n\u001b[0m\u001b[1;32m    405\u001b[0m \u001b[0;32melse\u001b[0m\u001b[0;34m:\u001b[0m\u001b[0;34m\u001b[0m\u001b[0m\n\u001b[1;32m    406\u001b[0m     \u001b[0;31m# this version of raise is a syntax error in Python 3\u001b[0m\u001b[0;34m\u001b[0m\u001b[0;34m\u001b[0m\u001b[0m\n",
      "\u001b[0;31mURLError\u001b[0m: <urlopen error [Errno 61] Connection refused>"
     ]
    }
   ],
   "source": [
    "# TODO: Need to add table[0] to the dataframe with a column for the race, stage, and results classification.\n",
    "# The stage points and mountains might have >1 table. If so, these will have to be added one at a time\n",
    "# and we'll need to get the individual mountain/sprint heading from the page which is a div \"rankingTables_caption\"\n",
    "table_list = [] #This is a temporary list for now until we get the dataframe appends.\n",
    "for item in short_list:\n",
    "    try:\n",
    "        table = pd.read_html(url_dict[item])\n",
    "        table_list.append(table)\n",
    "    except KeyError:\n",
    "        pass\n",
    "#     tables = pd.read_html(url)\n",
    "#     with open(f'output.csv','a+') as output:\n",
    "#         for i in tables:\n",
    "#             i.to_csv(output, header=False, sep = \"\\t\", index_label=False)"
   ]
  },
  {
   "cell_type": "code",
   "execution_count": 92,
   "metadata": {},
   "outputs": [
    {
     "data": {
      "text/html": [
       "<div>\n",
       "<style scoped>\n",
       "    .dataframe tbody tr th:only-of-type {\n",
       "        vertical-align: middle;\n",
       "    }\n",
       "\n",
       "    .dataframe tbody tr th {\n",
       "        vertical-align: top;\n",
       "    }\n",
       "\n",
       "    .dataframe thead th {\n",
       "        text-align: right;\n",
       "    }\n",
       "</style>\n",
       "<table border=\"1\" class=\"dataframe\">\n",
       "  <thead>\n",
       "    <tr style=\"text-align: right;\">\n",
       "      <th></th>\n",
       "      <th>Rank</th>\n",
       "      <th>Rider</th>\n",
       "      <th>Rider No.</th>\n",
       "      <th>Team</th>\n",
       "      <th>Points</th>\n",
       "      <th>B</th>\n",
       "    </tr>\n",
       "  </thead>\n",
       "  <tbody>\n",
       "    <tr>\n",
       "      <th>0</th>\n",
       "      <td>1</td>\n",
       "      <td>DYLAN GROENEWEGEN</td>\n",
       "      <td>141</td>\n",
       "      <td>TEAM JUMBO - VISMA</td>\n",
       "      <td>15 PTS</td>\n",
       "      <td>B : 10''</td>\n",
       "    </tr>\n",
       "    <tr>\n",
       "      <th>1</th>\n",
       "      <td>2</td>\n",
       "      <td>IVAN GARCIA CORTINA</td>\n",
       "      <td>43</td>\n",
       "      <td>BAHRAIN - MERIDA</td>\n",
       "      <td>12 PTS</td>\n",
       "      <td>B : 6''</td>\n",
       "    </tr>\n",
       "    <tr>\n",
       "      <th>2</th>\n",
       "      <td>3</td>\n",
       "      <td>PHILIPPE GILBERT</td>\n",
       "      <td>113</td>\n",
       "      <td>DECEUNINCK - QUICK - STEP</td>\n",
       "      <td>9 PTS</td>\n",
       "      <td>B : 4''</td>\n",
       "    </tr>\n",
       "    <tr>\n",
       "      <th>3</th>\n",
       "      <td>4</td>\n",
       "      <td>MATTEO TRENTIN</td>\n",
       "      <td>17</td>\n",
       "      <td>MITCHELTON - SCOTT</td>\n",
       "      <td>7 PTS</td>\n",
       "      <td>-</td>\n",
       "    </tr>\n",
       "    <tr>\n",
       "      <th>4</th>\n",
       "      <td>5</td>\n",
       "      <td>MICHAL KWIATKOWSKI</td>\n",
       "      <td>74</td>\n",
       "      <td>TEAM SKY</td>\n",
       "      <td>6 PTS</td>\n",
       "      <td>-</td>\n",
       "    </tr>\n",
       "    <tr>\n",
       "      <th>5</th>\n",
       "      <td>6</td>\n",
       "      <td>LUIS LEÃN SANCHEZ</td>\n",
       "      <td>27</td>\n",
       "      <td>ASTANA PRO TEAM</td>\n",
       "      <td>5 PTS</td>\n",
       "      <td>-</td>\n",
       "    </tr>\n",
       "    <tr>\n",
       "      <th>6</th>\n",
       "      <td>7</td>\n",
       "      <td>EGAN ARLEY BERNAL GOMEZ</td>\n",
       "      <td>71</td>\n",
       "      <td>TEAM SKY</td>\n",
       "      <td>4 PTS</td>\n",
       "      <td>-</td>\n",
       "    </tr>\n",
       "    <tr>\n",
       "      <th>7</th>\n",
       "      <td>8</td>\n",
       "      <td>ARNAUD DEMARE</td>\n",
       "      <td>101</td>\n",
       "      <td>GROUPAMA - FDJ</td>\n",
       "      <td>3 PTS</td>\n",
       "      <td>-</td>\n",
       "    </tr>\n",
       "    <tr>\n",
       "      <th>8</th>\n",
       "      <td>9</td>\n",
       "      <td>ANDRÃ GREIPEL</td>\n",
       "      <td>134</td>\n",
       "      <td>TEAM ARKEA - SAMSIC</td>\n",
       "      <td>2 PTS</td>\n",
       "      <td>-</td>\n",
       "    </tr>\n",
       "    <tr>\n",
       "      <th>9</th>\n",
       "      <td>10</td>\n",
       "      <td>MIKE TEUNISSEN</td>\n",
       "      <td>146</td>\n",
       "      <td>TEAM JUMBO - VISMA</td>\n",
       "      <td>1 PTS</td>\n",
       "      <td>-</td>\n",
       "    </tr>\n",
       "  </tbody>\n",
       "</table>\n",
       "</div>"
      ],
      "text/plain": [
       "   Rank                    Rider  Rider No.                       Team  \\\n",
       "0     1        DYLAN GROENEWEGEN        141         TEAM JUMBO - VISMA   \n",
       "1     2      IVAN GARCIA CORTINA         43           BAHRAIN - MERIDA   \n",
       "2     3         PHILIPPE GILBERT        113  DECEUNINCK - QUICK - STEP   \n",
       "3     4           MATTEO TRENTIN         17         MITCHELTON - SCOTT   \n",
       "4     5       MICHAL KWIATKOWSKI         74                   TEAM SKY   \n",
       "5     6       LUIS LEÃN SANCHEZ         27            ASTANA PRO TEAM   \n",
       "6     7  EGAN ARLEY BERNAL GOMEZ         71                   TEAM SKY   \n",
       "7     8            ARNAUD DEMARE        101             GROUPAMA - FDJ   \n",
       "8     9           ANDRÃ GREIPEL        134        TEAM ARKEA - SAMSIC   \n",
       "9    10           MIKE TEUNISSEN        146         TEAM JUMBO - VISMA   \n",
       "\n",
       "   Points         B  \n",
       "0  15 PTS  B : 10''  \n",
       "1  12 PTS   B : 6''  \n",
       "2   9 PTS   B : 4''  \n",
       "3   7 PTS         -  \n",
       "4   6 PTS         -  \n",
       "5   5 PTS         -  \n",
       "6   4 PTS         -  \n",
       "7   3 PTS         -  \n",
       "8   2 PTS         -  \n",
       "9   1 PTS         -  "
      ]
     },
     "execution_count": 92,
     "metadata": {},
     "output_type": "execute_result"
    }
   ],
   "source": [
    "table_list[1][2]"
   ]
  },
  {
   "cell_type": "code",
   "execution_count": null,
   "metadata": {},
   "outputs": [],
   "source": []
  }
 ],
 "metadata": {
  "kernelspec": {
   "display_name": "Python 3",
   "language": "python",
   "name": "python3"
  },
  "language_info": {
   "codemirror_mode": {
    "name": "ipython",
    "version": 3
   },
   "file_extension": ".py",
   "mimetype": "text/x-python",
   "name": "python",
   "nbconvert_exporter": "python",
   "pygments_lexer": "ipython3",
   "version": "3.7.0"
  }
 },
 "nbformat": 4,
 "nbformat_minor": 2
}
